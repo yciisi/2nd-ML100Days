{
 "cells": [
  {
   "cell_type": "markdown",
   "metadata": {},
   "source": [
    "## [作業重點]\n",
    "確保你了解隨機森林模型中每個超參數的意義，並觀察調整超參數對結果的影響"
   ]
  },
  {
   "cell_type": "markdown",
   "metadata": {},
   "source": [
    "## 作業\n",
    "\n",
    "1. 試著調整 RandomForestClassifier(...) 中的參數，並觀察是否會改變結果？\n",
    "2. 改用其他資料集 (boston, wine)，並與回歸模型與決策樹的結果進行比較"
   ]
  },
  {
   "cell_type": "code",
   "execution_count": 1,
   "metadata": {},
   "outputs": [],
   "source": [
    "from sklearn import datasets, metrics, linear_model\n",
    "from sklearn.tree import DecisionTreeRegressor\n",
    "from sklearn.ensemble import RandomForestClassifier, RandomForestRegressor\n",
    "from sklearn.model_selection import train_test_split\n",
    "\n",
    "from IPython.display import Image  \n",
    "from sklearn.tree import export_graphviz\n",
    "import pydotplus\n",
    "\n",
    "# 忽略警告訊息\n",
    "import warnings\n",
    "warnings.filterwarnings('ignore')"
   ]
  },
  {
   "cell_type": "code",
   "execution_count": 2,
   "metadata": {},
   "outputs": [],
   "source": [
    "# 試著調整 RandomForestClassifier(...) 中的參數，並觀察是否會改變結果？\n",
    "# 讀取鳶尾花資料集\n",
    "iris = datasets.load_iris()\n",
    "\n",
    "# 切分訓練集/測試集\n",
    "x_train, x_test, y_train, y_test = train_test_split(iris.data, iris.target, test_size=0.25, random_state=6)"
   ]
  },
  {
   "cell_type": "code",
   "execution_count": 3,
   "metadata": {},
   "outputs": [
    {
     "name": "stdout",
     "output_type": "stream",
     "text": [
      "Accuracy:  0.9210526315789473\n",
      "['sepal length (cm)', 'sepal width (cm)', 'petal length (cm)', 'petal width (cm)']\n",
      "Feature importance:  [0.07143361 0.02957363 0.3865376  0.51245515]\n"
     ]
    }
   ],
   "source": [
    "# 建立模型 (使用 20 顆樹，每棵樹的最大深度為 4)\n",
    "clf = RandomForestClassifier(n_estimators=20, max_depth=4)\n",
    "\n",
    "# 訓練模型\n",
    "clf.fit(x_train, y_train)\n",
    "\n",
    "# 預測測試集\n",
    "y_pred = clf.predict(x_test)\n",
    "\n",
    "acc = metrics.accuracy_score(y_test, y_pred)\n",
    "print(\"Accuracy: \", acc)\n",
    "print(iris.feature_names)\n",
    "print(\"Feature importance: \", clf.feature_importances_)"
   ]
  },
  {
   "cell_type": "code",
   "execution_count": 4,
   "metadata": {},
   "outputs": [
    {
     "name": "stdout",
     "output_type": "stream",
     "text": [
      "Accuracy:  0.9210526315789473\n",
      "['sepal length (cm)', 'sepal width (cm)', 'petal length (cm)', 'petal width (cm)']\n",
      "Feature importance:  [0.11025546 0.02474687 0.34297486 0.52202282]\n"
     ]
    }
   ],
   "source": [
    "# 調整 RandomForestClassifier 參數\n",
    "clf = RandomForestClassifier(n_estimators=30, criterion='gini', max_features='auto', max_depth=10, min_samples_split=2, min_samples_leaf=1)\n",
    "\n",
    "# 訓練模型\n",
    "clf.fit(x_train, y_train)\n",
    "\n",
    "# 預測測試集\n",
    "y_pred = clf.predict(x_test)\n",
    "\n",
    "acc = metrics.accuracy_score(y_test, y_pred)\n",
    "print(\"Accuracy: \", acc)\n",
    "print(iris.feature_names)\n",
    "print(\"Feature importance: \", clf.feature_importances_)"
   ]
  },
  {
   "cell_type": "code",
   "execution_count": 5,
   "metadata": {},
   "outputs": [],
   "source": [
    "# 2. 改用其他資料集 (boston, wine)，並與回歸模型與決策樹的結果進行比較\n",
    "# Load and return the boston house-prices dataset (regression).\n",
    "boston = datasets.load_boston()\n",
    "\n",
    "# 切分訓練集/測試集\n",
    "x_train, x_test, y_train, y_test = train_test_split(boston.data, boston.target, test_size=0.2, random_state=6)"
   ]
  },
  {
   "cell_type": "code",
   "execution_count": 6,
   "metadata": {},
   "outputs": [
    {
     "name": "stdout",
     "output_type": "stream",
     "text": [
      "Mean squared error: 27.22\n",
      "R2 Score: 0.68\n"
     ]
    }
   ],
   "source": [
    "# 建立一個線性回歸模型\n",
    "regr = linear_model.LinearRegression()\n",
    "regr.fit(x_train, y_train)\n",
    "y_pred = regr.predict(x_test)\n",
    "\n",
    "print(\"Mean squared error: %.2f\" % metrics.mean_squared_error(y_test, y_pred))\n",
    "print(\"R2 Score: %.2f\" % metrics.r2_score(y_test, y_pred))"
   ]
  },
  {
   "cell_type": "code",
   "execution_count": 7,
   "metadata": {},
   "outputs": [
    {
     "name": "stdout",
     "output_type": "stream",
     "text": [
      "['CRIM' 'ZN' 'INDUS' 'CHAS' 'NOX' 'RM' 'AGE' 'DIS' 'RAD' 'TAX' 'PTRATIO'\n",
      " 'B' 'LSTAT']\n",
      "Feature importance:  [7.27460467e-02 1.45181547e-03 2.75660086e-03 2.94771019e-04\n",
      " 1.38896712e-02 5.75905226e-01 1.41589858e-02 7.52116128e-02\n",
      " 1.05893750e-03 1.68362566e-02 1.38907298e-02 7.39368857e-03\n",
      " 2.04405658e-01]\n",
      "Mean squared error: 39.36\n",
      "R2 Score: 0.54\n"
     ]
    }
   ],
   "source": [
    "# 建立一個決策樹模型\n",
    "dtr = DecisionTreeRegressor()\n",
    "dtr.fit(x_train, y_train)\n",
    "y_pred = dtr.predict(x_test)\n",
    "print(boston.feature_names)\n",
    "print(\"Feature importance: \", dtr.feature_importances_)\n",
    "print(\"Mean squared error: %.2f\" % metrics.mean_squared_error(y_test, y_pred))\n",
    "print(\"R2 Score: %.2f\" % metrics.r2_score(y_test, y_pred))"
   ]
  },
  {
   "cell_type": "code",
   "execution_count": 8,
   "metadata": {},
   "outputs": [
    {
     "name": "stdout",
     "output_type": "stream",
     "text": [
      "['CRIM' 'ZN' 'INDUS' 'CHAS' 'NOX' 'RM' 'AGE' 'DIS' 'RAD' 'TAX' 'PTRATIO'\n",
      " 'B' 'LSTAT']\n",
      "Feature importance:  [0.03351424 0.00077711 0.00767377 0.00108056 0.02580689 0.55237627\n",
      " 0.01474003 0.04694293 0.00473857 0.01791128 0.01587005 0.01306286\n",
      " 0.26550541]\n",
      "Mean squared error: 16.59\n",
      "R2 Score: 0.81\n"
     ]
    }
   ],
   "source": [
    "# 建立隨機森林模型\n",
    "dtrt = RandomForestRegressor(n_estimators=30, max_features='auto', max_depth=10, min_samples_split=2, min_samples_leaf=1)\n",
    "\n",
    "# 訓練模型\n",
    "dtrt.fit(x_train, y_train)\n",
    "\n",
    "# 預測測試集\n",
    "y_pred = dtrt.predict(x_test)\n",
    "\n",
    "print(boston.feature_names)\n",
    "print(\"Feature importance: \", dtrt.feature_importances_)\n",
    "print(\"Mean squared error: %.2f\" % metrics.mean_squared_error(y_test, y_pred))\n",
    "print(\"R2 Score: %.2f\" % metrics.r2_score(y_test, y_pred))"
   ]
  }
 ],
 "metadata": {
  "kernelspec": {
   "display_name": "Python 3",
   "language": "python",
   "name": "python3"
  },
  "language_info": {
   "codemirror_mode": {
    "name": "ipython",
    "version": 3
   },
   "file_extension": ".py",
   "mimetype": "text/x-python",
   "name": "python",
   "nbconvert_exporter": "python",
   "pygments_lexer": "ipython3",
   "version": "3.7.3"
  }
 },
 "nbformat": 4,
 "nbformat_minor": 2
}
