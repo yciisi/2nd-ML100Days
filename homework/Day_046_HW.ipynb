{
 "cells": [
  {
   "cell_type": "markdown",
   "metadata": {},
   "source": [
    "### 作業\n",
    "目前已經學過許多的模型，相信大家對整體流程應該比較掌握了，這次作業請改用**手寫辨識資料集**，步驟流程都是一樣的，請試著自己撰寫程式碼來完成所有步驟"
   ]
  },
  {
   "cell_type": "code",
   "execution_count": 1,
   "metadata": {},
   "outputs": [],
   "source": [
    "from sklearn import datasets, metrics\n",
    "from sklearn.model_selection import train_test_split\n",
    "from sklearn.ensemble import GradientBoostingClassifier\n",
    "\n",
    "# 忽略警告訊息\n",
    "import warnings\n",
    "warnings.filterwarnings('ignore')"
   ]
  },
  {
   "cell_type": "code",
   "execution_count": 2,
   "metadata": {},
   "outputs": [],
   "source": [
    "# 讀取資料集\n",
    "digits = datasets.load_digits()\n",
    "\n",
    "# 切分訓練集/測試集\n",
    "x_train, x_test, y_train, y_test = train_test_split(digits.data, digits.target, test_size=0.25, random_state=6)"
   ]
  },
  {
   "cell_type": "code",
   "execution_count": 3,
   "metadata": {},
   "outputs": [
    {
     "name": "stdout",
     "output_type": "stream",
     "text": [
      "Accuracy:  0.9511111111111111\n",
      "Feature importance:  [0.00000000e+00 8.82769698e-04 1.22083400e-02 4.88627606e-03\n",
      " 3.85672588e-03 5.60427616e-02 6.42559509e-03 3.53083453e-03\n",
      " 2.36417987e-09 4.39363617e-03 2.54981482e-02 2.04258202e-03\n",
      " 7.40614901e-03 9.81136829e-03 1.32798309e-03 6.12617343e-05\n",
      " 1.62139634e-04 3.16281808e-03 8.00993701e-03 3.89332062e-02\n",
      " 2.41529289e-02 9.24237266e-02 2.19937033e-03 2.32123307e-05\n",
      " 1.22582979e-07 1.01921564e-03 5.66800979e-02 1.63354472e-02\n",
      " 3.83898387e-02 2.82750751e-02 8.74350108e-03 4.95008955e-06\n",
      " 0.00000000e+00 6.39250361e-02 8.15435360e-03 4.07283104e-03\n",
      " 6.58599201e-02 2.24191389e-02 1.51384025e-02 0.00000000e+00\n",
      " 0.00000000e+00 6.66283124e-03 7.81823042e-02 7.54076741e-02\n",
      " 1.20915761e-02 8.39796827e-03 1.86241065e-02 5.52808123e-04\n",
      " 5.77216160e-08 5.97719968e-04 1.16668571e-03 1.68985094e-02\n",
      " 2.91624662e-03 1.43396049e-02 2.56888188e-02 2.63145659e-04\n",
      " 0.00000000e+00 7.42294531e-05 1.42422509e-02 2.29163798e-03\n",
      " 5.47632226e-02 1.01288316e-02 1.18938241e-02 8.35624262e-03]\n"
     ]
    }
   ],
   "source": [
    "# 建立模型\n",
    "clf = GradientBoostingClassifier(learning_rate=0.1, n_estimators=200)\n",
    "\n",
    "# 訓練模型\n",
    "clf.fit(x_train, y_train)\n",
    "\n",
    "# 預測測試集\n",
    "y_pred = clf.predict(x_test)\n",
    "\n",
    "acc = metrics.accuracy_score(y_test, y_pred)\n",
    "print(\"Accuracy: \", acc)\n",
    "print(\"Feature importance: \", clf.feature_importances_)"
   ]
  }
 ],
 "metadata": {
  "kernelspec": {
   "display_name": "Python 3",
   "language": "python",
   "name": "python3"
  },
  "language_info": {
   "codemirror_mode": {
    "name": "ipython",
    "version": 3
   },
   "file_extension": ".py",
   "mimetype": "text/x-python",
   "name": "python",
   "nbconvert_exporter": "python",
   "pygments_lexer": "ipython3",
   "version": "3.7.3"
  }
 },
 "nbformat": 4,
 "nbformat_minor": 2
}
