{
 "cells": [
  {
   "cell_type": "markdown",
   "metadata": {},
   "source": [
    "## Work\n",
    "1. 請嘗試將 preproc_x 替換成以每筆資料的 min/max 進行標準化至 -1 ~ 1 間，再進行訓練\n",
    "2. 請嘗試將 mlp 疊更深 (e.g 5~10 層)，進行訓練後觀察 learning curve 的走勢\n",
    "3. (optional) 請改用 GPU 進行訓練 (如果你有 GPU 的話)，比較使用 CPU 與 GPU 的訓練速度"
   ]
  },
  {
   "cell_type": "code",
   "execution_count": 1,
   "metadata": {},
   "outputs": [],
   "source": [
    "## 確認硬體資源 (如果你是在 Linux, 若是在 Windows, 請參考 https://blog.csdn.net/idwtwt/article/details/78017565)\n",
    "# !nvidia-smi"
   ]
  },
  {
   "cell_type": "code",
   "execution_count": 2,
   "metadata": {},
   "outputs": [
    {
     "name": "stderr",
     "output_type": "stream",
     "text": [
      "Using TensorFlow backend.\n"
     ]
    }
   ],
   "source": [
    "import os\n",
    "import keras\n",
    "import tensorflow\n",
    "\n",
    "# 請嘗試設定 GPU：os.environ\n",
    "os.environ[\"CUDA_VISIBLE_DEVICES\"] = \"\""
   ]
  },
  {
   "cell_type": "code",
   "execution_count": 3,
   "metadata": {},
   "outputs": [],
   "source": [
    "train, test = keras.datasets.cifar10.load_data()"
   ]
  },
  {
   "cell_type": "code",
   "execution_count": 4,
   "metadata": {},
   "outputs": [],
   "source": [
    "## 資料前處理\n",
    "def preproc_x(x, flatten=True):\n",
    "    x = 2 * (((x - x.min()) / (x.max() - x.min())) - 0.5)\n",
    "    if flatten:\n",
    "        x = x.reshape((len(x), -1))\n",
    "    return x\n",
    "\n",
    "def preproc_y(y, num_classes=10):\n",
    "    if y.shape[-1] == 1:\n",
    "        y = keras.utils.to_categorical(y, num_classes)\n",
    "    return y   "
   ]
  },
  {
   "cell_type": "code",
   "execution_count": 5,
   "metadata": {},
   "outputs": [],
   "source": [
    "x_train, y_train = train\n",
    "x_test, y_test = test\n",
    "\n",
    "# Preproc the inputs\n",
    "x_train = preproc_x(x_train)\n",
    "x_test = preproc_x(x_test)\n",
    "\n",
    "# Preprc the outputs\n",
    "y_train = preproc_y(y_train)\n",
    "y_test = preproc_y(y_test)"
   ]
  },
  {
   "cell_type": "code",
   "execution_count": 6,
   "metadata": {},
   "outputs": [],
   "source": [
    "def build_mlp(input_shape, output_units=10, num_neurons=[512, 256, 128, 64, 32]):\n",
    "    input_layer = tensorflow.keras.layers.Input(input_shape)\n",
    "    \n",
    "    for i, n_units in enumerate(num_neurons):\n",
    "        if i == 0:\n",
    "            x = tensorflow.keras.layers.Dense(units=n_units, activation=\"relu\", name=\"hidden_layer\"+str(i+1))(input_layer)\n",
    "        else:\n",
    "            x = tensorflow.keras.layers.Dense(units=n_units, activation=\"relu\", name=\"hidden_layer\"+str(i+1))(x)\n",
    "    \n",
    "    out = tensorflow.keras.layers.Dense(units=output_units, activation=\"softmax\", name=\"output\")(x)\n",
    "    \n",
    "    model = tensorflow.keras.models.Model(inputs=[input_layer], outputs=[out])\n",
    "    return model"
   ]
  },
  {
   "cell_type": "code",
   "execution_count": 7,
   "metadata": {},
   "outputs": [
    {
     "name": "stdout",
     "output_type": "stream",
     "text": [
      "Model: \"model\"\n",
      "_________________________________________________________________\n",
      "Layer (type)                 Output Shape              Param #   \n",
      "=================================================================\n",
      "input_1 (InputLayer)         [(None, 3072)]            0         \n",
      "_________________________________________________________________\n",
      "hidden_layer1 (Dense)        (None, 512)               1573376   \n",
      "_________________________________________________________________\n",
      "hidden_layer2 (Dense)        (None, 256)               131328    \n",
      "_________________________________________________________________\n",
      "hidden_layer3 (Dense)        (None, 128)               32896     \n",
      "_________________________________________________________________\n",
      "hidden_layer4 (Dense)        (None, 64)                8256      \n",
      "_________________________________________________________________\n",
      "hidden_layer5 (Dense)        (None, 32)                2080      \n",
      "_________________________________________________________________\n",
      "output (Dense)               (None, 10)                330       \n",
      "=================================================================\n",
      "Total params: 1,748,266\n",
      "Trainable params: 1,748,266\n",
      "Non-trainable params: 0\n",
      "_________________________________________________________________\n"
     ]
    }
   ],
   "source": [
    "model = build_mlp(input_shape=x_train.shape[1:])\n",
    "model.summary()"
   ]
  },
  {
   "cell_type": "code",
   "execution_count": 8,
   "metadata": {},
   "outputs": [],
   "source": [
    "## 超參數設定\n",
    "LEARNING_RATE = 0.001\n",
    "EPOCHS = 100\n",
    "BATCH_SIZE = 256"
   ]
  },
  {
   "cell_type": "code",
   "execution_count": 9,
   "metadata": {},
   "outputs": [],
   "source": [
    "optimizer = tensorflow.keras.optimizers.Adam(lr=LEARNING_RATE)\n",
    "model.compile(loss=\"categorical_crossentropy\", metrics=[\"accuracy\"], optimizer=optimizer)"
   ]
  },
  {
   "cell_type": "code",
   "execution_count": 10,
   "metadata": {},
   "outputs": [
    {
     "name": "stdout",
     "output_type": "stream",
     "text": [
      "Train on 50000 samples, validate on 10000 samples\n",
      "Epoch 1/100\n",
      "50000/50000 [==============================] - 7s 139us/sample - loss: 1.7058 - accuracy: 0.3920 - val_loss: 1.5696 - val_accuracy: 0.4468\n",
      "Epoch 2/100\n",
      "50000/50000 [==============================] - 6s 125us/sample - loss: 1.4831 - accuracy: 0.4747 - val_loss: 1.4605 - val_accuracy: 0.4931\n",
      "Epoch 3/100\n",
      "50000/50000 [==============================] - 6s 123us/sample - loss: 1.3604 - accuracy: 0.5213 - val_loss: 1.4441 - val_accuracy: 0.4906\n",
      "Epoch 4/100\n",
      "50000/50000 [==============================] - 6s 120us/sample - loss: 1.2734 - accuracy: 0.5497 - val_loss: 1.3953 - val_accuracy: 0.5112\n",
      "Epoch 5/100\n",
      "50000/50000 [==============================] - 6s 121us/sample - loss: 1.1857 - accuracy: 0.5817 - val_loss: 1.3894 - val_accuracy: 0.5120\n",
      "Epoch 6/100\n",
      "50000/50000 [==============================] - 6s 119us/sample - loss: 1.1151 - accuracy: 0.6077 - val_loss: 1.3782 - val_accuracy: 0.5244\n",
      "Epoch 7/100\n",
      "50000/50000 [==============================] - 6s 112us/sample - loss: 1.0345 - accuracy: 0.6360 - val_loss: 1.3779 - val_accuracy: 0.5346\n",
      "Epoch 8/100\n",
      "50000/50000 [==============================] - 6s 116us/sample - loss: 0.9709 - accuracy: 0.6571 - val_loss: 1.3913 - val_accuracy: 0.5277\n",
      "Epoch 9/100\n",
      "50000/50000 [==============================] - 6s 120us/sample - loss: 0.9042 - accuracy: 0.6803 - val_loss: 1.4274 - val_accuracy: 0.5362\n",
      "Epoch 10/100\n",
      "50000/50000 [==============================] - 6s 128us/sample - loss: 0.8310 - accuracy: 0.7076 - val_loss: 1.4688 - val_accuracy: 0.5282\n",
      "Epoch 11/100\n",
      "50000/50000 [==============================] - 6s 123us/sample - loss: 0.7738 - accuracy: 0.7259 - val_loss: 1.5037 - val_accuracy: 0.5380\n",
      "Epoch 12/100\n",
      "50000/50000 [==============================] - 6s 121us/sample - loss: 0.7109 - accuracy: 0.7491 - val_loss: 1.5776 - val_accuracy: 0.5422\n",
      "Epoch 13/100\n",
      "50000/50000 [==============================] - 6s 126us/sample - loss: 0.6571 - accuracy: 0.7683 - val_loss: 1.6237 - val_accuracy: 0.5410\n",
      "Epoch 14/100\n",
      "50000/50000 [==============================] - 7s 137us/sample - loss: 0.5982 - accuracy: 0.7883 - val_loss: 1.7000 - val_accuracy: 0.5302\n",
      "Epoch 15/100\n",
      "50000/50000 [==============================] - 6s 115us/sample - loss: 0.5459 - accuracy: 0.8074 - val_loss: 1.8078 - val_accuracy: 0.5348\n",
      "Epoch 16/100\n",
      "50000/50000 [==============================] - 6s 118us/sample - loss: 0.5049 - accuracy: 0.8216 - val_loss: 1.8449 - val_accuracy: 0.5338\n",
      "Epoch 17/100\n",
      "50000/50000 [==============================] - 7s 131us/sample - loss: 0.4411 - accuracy: 0.8449 - val_loss: 1.9472 - val_accuracy: 0.5414\n",
      "Epoch 18/100\n",
      "50000/50000 [==============================] - 7s 133us/sample - loss: 0.4194 - accuracy: 0.8537 - val_loss: 1.9917 - val_accuracy: 0.5297\n",
      "Epoch 19/100\n",
      "50000/50000 [==============================] - 6s 118us/sample - loss: 0.3926 - accuracy: 0.8604 - val_loss: 2.1299 - val_accuracy: 0.5266\n",
      "Epoch 20/100\n",
      "50000/50000 [==============================] - 6s 116us/sample - loss: 0.3603 - accuracy: 0.8739 - val_loss: 2.2507 - val_accuracy: 0.5263\n",
      "Epoch 21/100\n",
      "50000/50000 [==============================] - 6s 113us/sample - loss: 0.3268 - accuracy: 0.8853 - val_loss: 2.2507 - val_accuracy: 0.5249\n",
      "Epoch 22/100\n",
      "50000/50000 [==============================] - 6s 116us/sample - loss: 0.3039 - accuracy: 0.8941 - val_loss: 2.4413 - val_accuracy: 0.5255\n",
      "Epoch 23/100\n",
      "50000/50000 [==============================] - 6s 112us/sample - loss: 0.2910 - accuracy: 0.8977 - val_loss: 2.4540 - val_accuracy: 0.5250\n",
      "Epoch 24/100\n",
      "50000/50000 [==============================] - 6s 110us/sample - loss: 0.2625 - accuracy: 0.9101 - val_loss: 2.5603 - val_accuracy: 0.5260\n",
      "Epoch 25/100\n",
      "50000/50000 [==============================] - 6s 111us/sample - loss: 0.2531 - accuracy: 0.9114 - val_loss: 2.6490 - val_accuracy: 0.5191\n",
      "Epoch 26/100\n",
      "50000/50000 [==============================] - 6s 112us/sample - loss: 0.2445 - accuracy: 0.9163 - val_loss: 2.8818 - val_accuracy: 0.5184\n",
      "Epoch 27/100\n",
      "50000/50000 [==============================] - 6s 112us/sample - loss: 0.2353 - accuracy: 0.9183 - val_loss: 2.8205 - val_accuracy: 0.5300\n",
      "Epoch 28/100\n",
      "50000/50000 [==============================] - 6s 114us/sample - loss: 0.2173 - accuracy: 0.9246 - val_loss: 2.9526 - val_accuracy: 0.5228\n",
      "Epoch 29/100\n",
      "50000/50000 [==============================] - 6s 114us/sample - loss: 0.2084 - accuracy: 0.9281 - val_loss: 2.9500 - val_accuracy: 0.5172\n",
      "Epoch 30/100\n",
      "50000/50000 [==============================] - 5s 110us/sample - loss: 0.1864 - accuracy: 0.9360 - val_loss: 3.1139 - val_accuracy: 0.5272\n",
      "Epoch 31/100\n",
      "50000/50000 [==============================] - 6s 115us/sample - loss: 0.1978 - accuracy: 0.9315 - val_loss: 3.1377 - val_accuracy: 0.5257\n",
      "Epoch 32/100\n",
      "50000/50000 [==============================] - 6s 114us/sample - loss: 0.1861 - accuracy: 0.9361 - val_loss: 3.1653 - val_accuracy: 0.5255\n",
      "Epoch 33/100\n",
      "50000/50000 [==============================] - 6s 121us/sample - loss: 0.1712 - accuracy: 0.9415 - val_loss: 3.3518 - val_accuracy: 0.5235\n",
      "Epoch 34/100\n",
      "50000/50000 [==============================] - 6s 118us/sample - loss: 0.1651 - accuracy: 0.9423 - val_loss: 3.2290 - val_accuracy: 0.5271\n",
      "Epoch 35/100\n",
      "50000/50000 [==============================] - 6s 122us/sample - loss: 0.1708 - accuracy: 0.9428 - val_loss: 3.3702 - val_accuracy: 0.5174\n",
      "Epoch 36/100\n",
      "50000/50000 [==============================] - 7s 134us/sample - loss: 0.1711 - accuracy: 0.9421 - val_loss: 3.3225 - val_accuracy: 0.5266\n",
      "Epoch 37/100\n",
      "50000/50000 [==============================] - 7s 136us/sample - loss: 0.1481 - accuracy: 0.9501 - val_loss: 3.4448 - val_accuracy: 0.5246\n",
      "Epoch 38/100\n",
      "50000/50000 [==============================] - 6s 117us/sample - loss: 0.1452 - accuracy: 0.9501 - val_loss: 3.4959 - val_accuracy: 0.5161\n",
      "Epoch 39/100\n",
      "50000/50000 [==============================] - 6s 114us/sample - loss: 0.1524 - accuracy: 0.9487 - val_loss: 3.5919 - val_accuracy: 0.5285\n",
      "Epoch 40/100\n",
      "50000/50000 [==============================] - 6s 123us/sample - loss: 0.1418 - accuracy: 0.9517 - val_loss: 3.6477 - val_accuracy: 0.5219\n",
      "Epoch 41/100\n",
      "50000/50000 [==============================] - 6s 128us/sample - loss: 0.1509 - accuracy: 0.9488 - val_loss: 3.6565 - val_accuracy: 0.5248\n",
      "Epoch 42/100\n",
      "50000/50000 [==============================] - 6s 126us/sample - loss: 0.1518 - accuracy: 0.9484 - val_loss: 3.6820 - val_accuracy: 0.5249\n",
      "Epoch 43/100\n",
      "50000/50000 [==============================] - 6s 125us/sample - loss: 0.1332 - accuracy: 0.9550 - val_loss: 3.6399 - val_accuracy: 0.5291\n",
      "Epoch 44/100\n",
      "50000/50000 [==============================] - 6s 123us/sample - loss: 0.1117 - accuracy: 0.9621 - val_loss: 3.8388 - val_accuracy: 0.5300\n",
      "Epoch 45/100\n",
      "50000/50000 [==============================] - 6s 115us/sample - loss: 0.1283 - accuracy: 0.9567 - val_loss: 3.6726 - val_accuracy: 0.5216\n",
      "Epoch 46/100\n",
      "50000/50000 [==============================] - 6s 110us/sample - loss: 0.1335 - accuracy: 0.9554 - val_loss: 3.8845 - val_accuracy: 0.5247\n",
      "Epoch 47/100\n",
      "50000/50000 [==============================] - 5s 109us/sample - loss: 0.1292 - accuracy: 0.9567 - val_loss: 3.8113 - val_accuracy: 0.5220\n",
      "Epoch 48/100\n",
      "50000/50000 [==============================] - 6s 111us/sample - loss: 0.1374 - accuracy: 0.9542 - val_loss: 3.6087 - val_accuracy: 0.5325\n",
      "Epoch 49/100\n",
      "50000/50000 [==============================] - 6s 111us/sample - loss: 0.1070 - accuracy: 0.9637 - val_loss: 4.0655 - val_accuracy: 0.5334\n",
      "Epoch 50/100\n",
      "50000/50000 [==============================] - 6s 115us/sample - loss: 0.0946 - accuracy: 0.9678 - val_loss: 4.1110 - val_accuracy: 0.5270\n",
      "Epoch 51/100\n",
      "50000/50000 [==============================] - 6s 124us/sample - loss: 0.1271 - accuracy: 0.9575 - val_loss: 3.7872 - val_accuracy: 0.5320\n",
      "Epoch 52/100\n",
      "50000/50000 [==============================] - 6s 114us/sample - loss: 0.1221 - accuracy: 0.9600 - val_loss: 3.7857 - val_accuracy: 0.5305\n",
      "Epoch 53/100\n",
      "50000/50000 [==============================] - 6s 120us/sample - loss: 0.1186 - accuracy: 0.9604 - val_loss: 3.9845 - val_accuracy: 0.5229\n",
      "Epoch 54/100\n"
     ]
    },
    {
     "name": "stdout",
     "output_type": "stream",
     "text": [
      "50000/50000 [==============================] - 6s 130us/sample - loss: 0.0896 - accuracy: 0.9703 - val_loss: 4.1761 - val_accuracy: 0.5299\n",
      "Epoch 55/100\n",
      "50000/50000 [==============================] - 7s 136us/sample - loss: 0.1269 - accuracy: 0.9573 - val_loss: 3.9806 - val_accuracy: 0.5237\n",
      "Epoch 56/100\n",
      "50000/50000 [==============================] - 7s 143us/sample - loss: 0.1135 - accuracy: 0.9615 - val_loss: 4.0032 - val_accuracy: 0.5297\n",
      "Epoch 57/100\n",
      "50000/50000 [==============================] - 6s 126us/sample - loss: 0.0944 - accuracy: 0.9687 - val_loss: 4.0548 - val_accuracy: 0.5314\n",
      "Epoch 58/100\n",
      "50000/50000 [==============================] - 6s 125us/sample - loss: 0.0812 - accuracy: 0.9728 - val_loss: 4.1795 - val_accuracy: 0.5284\n",
      "Epoch 59/100\n",
      "50000/50000 [==============================] - 6s 130us/sample - loss: 0.1170 - accuracy: 0.9624 - val_loss: 4.0558 - val_accuracy: 0.5256\n",
      "Epoch 60/100\n",
      "50000/50000 [==============================] - 6s 125us/sample - loss: 0.1080 - accuracy: 0.9644 - val_loss: 3.9998 - val_accuracy: 0.5246\n",
      "Epoch 61/100\n",
      "50000/50000 [==============================] - 6s 125us/sample - loss: 0.1144 - accuracy: 0.9617 - val_loss: 4.0841 - val_accuracy: 0.5250\n",
      "Epoch 62/100\n",
      "50000/50000 [==============================] - 6s 128us/sample - loss: 0.1002 - accuracy: 0.9674 - val_loss: 3.9254 - val_accuracy: 0.5263\n",
      "Epoch 63/100\n",
      "50000/50000 [==============================] - 6s 127us/sample - loss: 0.0770 - accuracy: 0.9744 - val_loss: 4.2083 - val_accuracy: 0.5273\n",
      "Epoch 64/100\n",
      "50000/50000 [==============================] - 6s 127us/sample - loss: 0.0701 - accuracy: 0.9768 - val_loss: 4.3549 - val_accuracy: 0.5287\n",
      "Epoch 65/100\n",
      "50000/50000 [==============================] - 6s 122us/sample - loss: 0.1031 - accuracy: 0.9674 - val_loss: 4.1166 - val_accuracy: 0.5174\n",
      "Epoch 66/100\n",
      "50000/50000 [==============================] - 6s 125us/sample - loss: 0.1084 - accuracy: 0.9648 - val_loss: 4.1738 - val_accuracy: 0.5236\n",
      "Epoch 67/100\n",
      "50000/50000 [==============================] - 6s 128us/sample - loss: 0.0945 - accuracy: 0.9696 - val_loss: 3.9682 - val_accuracy: 0.5253\n",
      "Epoch 68/100\n",
      "50000/50000 [==============================] - 6s 129us/sample - loss: 0.0749 - accuracy: 0.9755 - val_loss: 4.3074 - val_accuracy: 0.5327\n",
      "Epoch 69/100\n",
      "50000/50000 [==============================] - 6s 123us/sample - loss: 0.0771 - accuracy: 0.9754 - val_loss: 4.4140 - val_accuracy: 0.5274\n",
      "Epoch 70/100\n",
      "50000/50000 [==============================] - 7s 131us/sample - loss: 0.0928 - accuracy: 0.9702 - val_loss: 4.2751 - val_accuracy: 0.5279\n",
      "Epoch 71/100\n",
      "50000/50000 [==============================] - 6s 128us/sample - loss: 0.0809 - accuracy: 0.9738 - val_loss: 4.4961 - val_accuracy: 0.5155\n",
      "Epoch 72/100\n",
      "50000/50000 [==============================] - 6s 127us/sample - loss: 0.0922 - accuracy: 0.9703 - val_loss: 4.3080 - val_accuracy: 0.5191\n",
      "Epoch 73/100\n",
      "50000/50000 [==============================] - 6s 124us/sample - loss: 0.1038 - accuracy: 0.9661 - val_loss: 4.1895 - val_accuracy: 0.5290\n",
      "Epoch 74/100\n",
      "50000/50000 [==============================] - 6s 129us/sample - loss: 0.0733 - accuracy: 0.9763 - val_loss: 4.1275 - val_accuracy: 0.5333\n",
      "Epoch 75/100\n",
      "50000/50000 [==============================] - 6s 130us/sample - loss: 0.0721 - accuracy: 0.9762 - val_loss: 4.5109 - val_accuracy: 0.5259\n",
      "Epoch 76/100\n",
      "50000/50000 [==============================] - 6s 128us/sample - loss: 0.0997 - accuracy: 0.9670 - val_loss: 4.1365 - val_accuracy: 0.5260\n",
      "Epoch 77/100\n",
      "50000/50000 [==============================] - 6s 126us/sample - loss: 0.0866 - accuracy: 0.9721 - val_loss: 4.2941 - val_accuracy: 0.5299\n",
      "Epoch 78/100\n",
      "50000/50000 [==============================] - 7s 130us/sample - loss: 0.0875 - accuracy: 0.9727 - val_loss: 4.1924 - val_accuracy: 0.5336\n",
      "Epoch 79/100\n",
      "50000/50000 [==============================] - 6s 128us/sample - loss: 0.0537 - accuracy: 0.9821 - val_loss: 4.4800 - val_accuracy: 0.5279\n",
      "Epoch 80/100\n",
      "50000/50000 [==============================] - 6s 130us/sample - loss: 0.0797 - accuracy: 0.9746 - val_loss: 4.4609 - val_accuracy: 0.5259\n",
      "Epoch 81/100\n",
      "50000/50000 [==============================] - 6s 128us/sample - loss: 0.0679 - accuracy: 0.9778 - val_loss: 4.5201 - val_accuracy: 0.5336\n",
      "Epoch 82/100\n",
      "50000/50000 [==============================] - 6s 130us/sample - loss: 0.0912 - accuracy: 0.9711 - val_loss: 4.3890 - val_accuracy: 0.5262\n",
      "Epoch 83/100\n",
      "50000/50000 [==============================] - 7s 131us/sample - loss: 0.0863 - accuracy: 0.9723 - val_loss: 4.3211 - val_accuracy: 0.5242\n",
      "Epoch 84/100\n",
      "50000/50000 [==============================] - 7s 134us/sample - loss: 0.0594 - accuracy: 0.9802 - val_loss: 4.3062 - val_accuracy: 0.5285\n",
      "Epoch 85/100\n",
      "50000/50000 [==============================] - 6s 119us/sample - loss: 0.0876 - accuracy: 0.9727 - val_loss: 4.5178 - val_accuracy: 0.5284\n",
      "Epoch 86/100\n",
      "50000/50000 [==============================] - 6s 119us/sample - loss: 0.0878 - accuracy: 0.9717 - val_loss: 4.3654 - val_accuracy: 0.5282\n",
      "Epoch 87/100\n",
      "50000/50000 [==============================] - 7s 132us/sample - loss: 0.0669 - accuracy: 0.9787 - val_loss: 4.4723 - val_accuracy: 0.5322\n",
      "Epoch 88/100\n",
      "50000/50000 [==============================] - 7s 144us/sample - loss: 0.0564 - accuracy: 0.9817 - val_loss: 4.5342 - val_accuracy: 0.5343\n",
      "Epoch 89/100\n",
      "50000/50000 [==============================] - 7s 132us/sample - loss: 0.0877 - accuracy: 0.9717 - val_loss: 4.4027 - val_accuracy: 0.5264\n",
      "Epoch 90/100\n",
      "50000/50000 [==============================] - 7s 136us/sample - loss: 0.0644 - accuracy: 0.9788 - val_loss: 4.5588 - val_accuracy: 0.5342\n",
      "Epoch 91/100\n",
      "50000/50000 [==============================] - 7s 135us/sample - loss: 0.0469 - accuracy: 0.9843 - val_loss: 4.7831 - val_accuracy: 0.5336\n",
      "Epoch 92/100\n",
      "50000/50000 [==============================] - 7s 136us/sample - loss: 0.0822 - accuracy: 0.9743 - val_loss: 4.5758 - val_accuracy: 0.5243\n",
      "Epoch 93/100\n",
      "50000/50000 [==============================] - 7s 148us/sample - loss: 0.0876 - accuracy: 0.9716 - val_loss: 4.4399 - val_accuracy: 0.5269\n",
      "Epoch 94/100\n",
      "50000/50000 [==============================] - 7s 135us/sample - loss: 0.0640 - accuracy: 0.9794 - val_loss: 4.5308 - val_accuracy: 0.5332\n",
      "Epoch 95/100\n",
      "50000/50000 [==============================] - 7s 137us/sample - loss: 0.0552 - accuracy: 0.9816 - val_loss: 4.6309 - val_accuracy: 0.5308\n",
      "Epoch 96/100\n",
      "50000/50000 [==============================] - 7s 132us/sample - loss: 0.0705 - accuracy: 0.9778 - val_loss: 4.6791 - val_accuracy: 0.5174\n",
      "Epoch 97/100\n",
      "50000/50000 [==============================] - 7s 136us/sample - loss: 0.0784 - accuracy: 0.9750 - val_loss: 4.4463 - val_accuracy: 0.5326\n",
      "Epoch 98/100\n",
      "50000/50000 [==============================] - 7s 137us/sample - loss: 0.0449 - accuracy: 0.9852 - val_loss: 4.7706 - val_accuracy: 0.5277\n",
      "Epoch 99/100\n",
      "50000/50000 [==============================] - 7s 133us/sample - loss: 0.0768 - accuracy: 0.9756 - val_loss: 4.6434 - val_accuracy: 0.5301\n",
      "Epoch 100/100\n",
      "50000/50000 [==============================] - 7s 137us/sample - loss: 0.0715 - accuracy: 0.9766 - val_loss: 4.4588 - val_accuracy: 0.5328\n"
     ]
    },
    {
     "data": {
      "text/plain": [
       "<tensorflow.python.keras.callbacks.History at 0x148955190>"
      ]
     },
     "execution_count": 10,
     "metadata": {},
     "output_type": "execute_result"
    }
   ],
   "source": [
    "model.fit(x_train, y_train, \n",
    "          epochs=EPOCHS, \n",
    "          batch_size=BATCH_SIZE, \n",
    "          validation_data=(x_test, y_test), \n",
    "          shuffle=True)"
   ]
  },
  {
   "cell_type": "code",
   "execution_count": 12,
   "metadata": {},
   "outputs": [
    {
     "data": {
      "image/png": "[encoded data removed]",
      "text/plain": [
       "<Figure size 432x288 with 1 Axes>"
      ]
     },
     "metadata": {
      "needs_background": "light"
     },
     "output_type": "display_data"
    },
    {
     "data": {
      "image/png": "[encoded data removed]",
      "text/plain": [
       "<Figure size 432x288 with 1 Axes>"
      ]
     },
     "metadata": {
      "needs_background": "light"
     },
     "output_type": "display_data"
    }
   ],
   "source": [
    "import matplotlib.pyplot as plt\n",
    "\n",
    "train_loss = model.history.history[\"loss\"]\n",
    "valid_loss = model.history.history[\"val_loss\"]\n",
    "\n",
    "train_acc = model.history.history[\"accuracy\"]\n",
    "valid_acc = model.history.history[\"val_accuracy\"]\n",
    "\n",
    "plt.plot(range(len(train_loss)), train_loss, label=\"train loss\")\n",
    "plt.plot(range(len(valid_loss)), valid_loss, label=\"valid loss\")\n",
    "plt.legend()\n",
    "plt.title(\"Loss\")\n",
    "plt.show()\n",
    "\n",
    "plt.plot(range(len(train_acc)), train_acc, label=\"train accuracy\")\n",
    "plt.plot(range(len(valid_acc)), valid_acc, label=\"valid accuracy\")\n",
    "plt.legend()\n",
    "plt.title(\"Accuracy\")\n",
    "plt.show()"
   ]
  }
 ],
 "metadata": {
  "kernelspec": {
   "display_name": "Python 3",
   "language": "python",
   "name": "python3"
  },
  "language_info": {
   "codemirror_mode": {
    "name": "ipython",
    "version": 3
   },
   "file_extension": ".py",
   "mimetype": "text/x-python",
   "name": "python",
   "nbconvert_exporter": "python",
   "pygments_lexer": "ipython3",
   "version": "3.7.4"
  }
 },
 "nbformat": 4,
 "nbformat_minor": 2
}
